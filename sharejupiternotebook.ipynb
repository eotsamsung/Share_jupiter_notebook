{
 "cells": [
  {
   "cell_type": "markdown",
   "metadata": {
    "collapsed": true
   },
   "source": [
    "<h1>My Jupyter Notebook on IBM Watson Studio</h1>"
   ]
  },
  {
   "cell_type": "markdown",
   "metadata": {},
   "source": [
    "<p><b>Edgardo</b></p>\n",
    "<p>Data Scientist</p>"
   ]
  },
  {
   "cell_type": "markdown",
   "metadata": {},
   "source": [
    "<p><i>I am interested in data science because I love to make decisions based on data</i></p>"
   ]
  },
  {
   "cell_type": "markdown",
   "metadata": {},
   "source": [
    "<h3>The below should print 5</h3>"
   ]
  },
  {
   "cell_type": "code",
   "execution_count": null,
   "metadata": {},
   "outputs": [],
   "source": [
    "3+2"
   ]
  },
  {
   "cell_type": "markdown",
   "metadata": {},
   "source": [
    "<h3>The below is a sample of horizontal rule</h3>\n",
    "<p>§1: The addition assignment ( += ) operator:adds the value of the right operand to a variable and assigns the result to the variable.</p>\n",
    "\n",
    "<hr>\n",
    "\n",
    "<p>§2: The - (subtraction) operator : yields the difference of its operands.</p>\n",
    "\n",
    "<h3>The below is a sample of bulleted list </h3>\n",
    "\n",
    "<ul>\n",
    "  <li>Sugar</li>\n",
    "  <li>Tea</li>\n",
    "  <li>Milk</li>\n",
    "</ul> \n",
    "\n",
    "<h3>The below is a sample of numbered list </h3>\n",
    "<ol type=\"1\">\n",
    "   <li>Item in list…</li>\n",
    "   <li>Item in list…</li>\n",
    "   <li>Item in list…</li>\n",
    "</ol>"
   ]
  },
  {
   "cell_type": "code",
   "execution_count": null,
   "metadata": {},
   "outputs": [],
   "source": []
  }
 ],
 "metadata": {
  "kernelspec": {
   "display_name": "Python 3.10",
   "language": "python",
   "name": "python3"
  },
  "language_info": {
   "codemirror_mode": {
    "name": "ipython",
    "version": 3
   },
   "file_extension": ".py",
   "mimetype": "text/x-python",
   "name": "python",
   "nbconvert_exporter": "python",
   "pygments_lexer": "ipython3",
   "version": "3.10.6"
  }
 },
 "nbformat": 4,
 "nbformat_minor": 1
}
